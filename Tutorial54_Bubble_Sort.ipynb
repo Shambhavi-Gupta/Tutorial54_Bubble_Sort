{
  "nbformat": 4,
  "nbformat_minor": 0,
  "metadata": {
    "colab": {
      "name": "Tutorial54_Bubble_Sort.ipynb",
      "provenance": [],
      "authorship_tag": "ABX9TyP8F7uoNx0JPNfpSfoZ9DKB",
      "include_colab_link": true
    },
    "kernelspec": {
      "name": "python3",
      "display_name": "Python 3"
    }
  },
  "cells": [
    {
      "cell_type": "markdown",
      "metadata": {
        "id": "view-in-github",
        "colab_type": "text"
      },
      "source": [
        "<a href=\"https://colab.research.google.com/github/Shambhavi-Gupta/Tutorial54_Bubble_Sort/blob/main/Tutorial54_Bubble_Sort.ipynb\" target=\"_parent\"><img src=\"https://colab.research.google.com/assets/colab-badge.svg\" alt=\"Open In Colab\"/></a>"
      ]
    },
    {
      "cell_type": "code",
      "metadata": {
        "id": "g3jSUH4ixgH7"
      },
      "source": [
        "list1 = [9,6,2,8,3]\r\n",
        "print(\"unordered list\",list1)\r\n",
        "for j in range(len(list1)-1):\r\n",
        "    for i in range(len(list1)-1-j):\r\n",
        "        if list1[i]>list1[i+1]:\r\n",
        "            list1[i],list1[i+1] = list1[i+1],list1[i]\r\n",
        "            print(list1)\r\n",
        "        else:\r\n",
        "            print(list1)\r\n",
        "    print()\r\n",
        "print(\"Sorted list : \",list1)"
      ],
      "execution_count": null,
      "outputs": []
    }
  ]
}